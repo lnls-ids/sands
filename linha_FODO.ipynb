{
 "cells": [
  {
   "cell_type": "code",
   "execution_count": 142,
   "metadata": {},
   "outputs": [],
   "source": [
    "import pyaccel as pa\n",
    "import matplotlib.pyplot as plt\n",
    "from copy import deepcopy as dp"
   ]
  },
  {
   "cell_type": "code",
   "execution_count": 143,
   "metadata": {},
   "outputs": [],
   "source": [
    "d = pa.elements.drift(\"nome\",10)"
   ]
  },
  {
   "cell_type": "code",
   "execution_count": 144,
   "metadata": {},
   "outputs": [],
   "source": [
    "#pa.tracking.element_pass\n",
    "#pa.tracking.line_pass\n",
    "#pa.tracking.ring_pass"
   ]
  },
  {
   "cell_type": "code",
   "execution_count": 145,
   "metadata": {},
   "outputs": [
    {
     "data": {
      "text/plain": [
       "array([  0. ,   0. ,  50.3,   5. ,   0. , 125. ])"
      ]
     },
     "execution_count": 145,
     "metadata": {},
     "output_type": "execute_result"
    }
   ],
   "source": [
    "part = [0.0, #x\n",
    "        0, #x'\n",
    "        0.3, #y\n",
    "        5, #y'\n",
    "        0, #de\n",
    "        0] #d'\n",
    "pa.tracking.element_pass(d,part,2)"
   ]
  },
  {
   "cell_type": "code",
   "execution_count": 146,
   "metadata": {},
   "outputs": [],
   "source": [
    "QF = pa.elements.quadrupole(\"nome2\", 0.0, 2)\n",
    "QD = pa.elements.quadrupole(\"nome3\", 0.0, -2)"
   ]
  },
  {
   "cell_type": "code",
   "execution_count": 147,
   "metadata": {},
   "outputs": [],
   "source": [
    "linha = pa.accelerator.Accelerator()"
   ]
  },
  {
   "cell_type": "code",
   "execution_count": 148,
   "metadata": {},
   "outputs": [],
   "source": [
    "linha.append(d)\n",
    "linha.append(QF)\n",
    "linha.append(d)\n",
    "linha.append(QD)\n"
   ]
  },
  {
   "cell_type": "code",
   "execution_count": 149,
   "metadata": {},
   "outputs": [],
   "source": [
    "FODO = pa.accelerator.Accelerator()\n",
    "FODO.harmonic_number=1"
   ]
  },
  {
   "cell_type": "code",
   "execution_count": 150,
   "metadata": {},
   "outputs": [
    {
     "data": {
      "text/plain": [
       "[None, None, None, None, None, None, None, None, None, None]"
      ]
     },
     "execution_count": 150,
     "metadata": {},
     "output_type": "execute_result"
    }
   ],
   "source": [
    "[FODO.extend(dp(linha)) for _ in range(10)]"
   ]
  },
  {
   "cell_type": "code",
   "execution_count": 151,
   "metadata": {},
   "outputs": [
    {
     "name": "stdout",
     "output_type": "stream",
     "text": [
      "energy         : 510998.94999616424 eV\n",
      "harmonic_number: 1\n",
      "cavity_on      : False\n",
      "radiation_on   : 0\n",
      "vchamber_on    : False\n",
      "lattice version: \n",
      "lattice size   : 40\n",
      "lattice length : 200.0 m\n"
     ]
    }
   ],
   "source": [
    "print(FODO)"
   ]
  },
  {
   "cell_type": "code",
   "execution_count": 152,
   "metadata": {},
   "outputs": [],
   "source": [
    "K = [e.K for e in FODO]"
   ]
  },
  {
   "cell_type": "code",
   "execution_count": 153,
   "metadata": {},
   "outputs": [
    {
     "data": {
      "text/plain": [
       "<StemContainer object of 3 artists>"
      ]
     },
     "execution_count": 153,
     "metadata": {},
     "output_type": "execute_result"
    },
    {
     "data": {
      "image/png": "[encoded data removed]",
      "text/plain": [
       "<Figure size 640x480 with 1 Axes>"
      ]
     },
     "metadata": {},
     "output_type": "display_data"
    }
   ],
   "source": [
    "spos = pa.lattice.find_spos(FODO)\n",
    "plt.stem(spos, K)"
   ]
  },
  {
   "cell_type": "code",
   "execution_count": 154,
   "metadata": {},
   "outputs": [],
   "source": [
    "TW,MT = pa.optics.calc_twiss(FODO)"
   ]
  },
  {
   "cell_type": "code",
   "execution_count": 155,
   "metadata": {},
   "outputs": [
    {
     "data": {
      "text/plain": [
       "[<matplotlib.lines.Line2D at 0x7f2b47021fd0>]"
      ]
     },
     "execution_count": 155,
     "metadata": {},
     "output_type": "execute_result"
    },
    {
     "data": {
      "image/png": "[encoded data removed]",
      "text/plain": [
       "<Figure size 640x480 with 1 Axes>"
      ]
     },
     "metadata": {},
     "output_type": "display_data"
    }
   ],
   "source": [
    "plt.plot(TW.betax,\".\")"
   ]
  },
  {
   "cell_type": "code",
   "execution_count": 156,
   "metadata": {},
   "outputs": [
    {
     "data": {
      "text/plain": [
       "TwissArray([(  0., -inf, nan,  0., -inf, nan,  0., 0., 0., 0., 0., 0., 0., 0., 0., 0., 0.),\n",
       "            ( 10.,  nan, nan, nan,  nan, nan, nan, 0., 0., 0., 0., 0., 0., 0., 0., 0., 0.),\n",
       "            ( 10.,  nan, nan, nan,  nan, nan, nan, 0., 0., 0., 0., 0., 0., 0., 0., 0., 0.),\n",
       "            ( 20.,  nan, nan, nan,  nan, nan, nan, 0., 0., 0., 0., 0., 0., 0., 0., 0., 0.),\n",
       "            ( 20.,  nan, nan, nan,  nan, nan, nan, 0., 0., 0., 0., 0., 0., 0., 0., 0., 0.),\n",
       "            ( 30.,  nan, nan, nan,  nan, nan, nan, 0., 0., 0., 0., 0., 0., 0., 0., 0., 0.),\n",
       "            ( 30.,  nan, nan, nan,  nan, nan, nan, 0., 0., 0., 0., 0., 0., 0., 0., 0., 0.),\n",
       "            ( 40.,  nan, nan, nan,  nan, nan, nan, 0., 0., 0., 0., 0., 0., 0., 0., 0., 0.),\n",
       "            ( 40.,  nan, nan, nan,  nan, nan, nan, 0., 0., 0., 0., 0., 0., 0., 0., 0., 0.),\n",
       "            ( 50.,  nan, nan, nan,  nan, nan, nan, 0., 0., 0., 0., 0., 0., 0., 0., 0., 0.),\n",
       "            ( 50.,  nan, nan, nan,  nan, nan, nan, 0., 0., 0., 0., 0., 0., 0., 0., 0., 0.),\n",
       "            ( 60.,  nan, nan, nan,  nan, nan, nan, 0., 0., 0., 0., 0., 0., 0., 0., 0., 0.),\n",
       "            ( 60.,  nan, nan, nan,  nan, nan, nan, 0., 0., 0., 0., 0., 0., 0., 0., 0., 0.),\n",
       "            ( 70.,  nan, nan, nan,  nan, nan, nan, 0., 0., 0., 0., 0., 0., 0., 0., 0., 0.),\n",
       "            ( 70.,  nan, nan, nan,  nan, nan, nan, 0., 0., 0., 0., 0., 0., 0., 0., 0., 0.),\n",
       "            ( 80.,  nan, nan, nan,  nan, nan, nan, 0., 0., 0., 0., 0., 0., 0., 0., 0., 0.),\n",
       "            ( 80.,  nan, nan, nan,  nan, nan, nan, 0., 0., 0., 0., 0., 0., 0., 0., 0., 0.),\n",
       "            ( 90.,  nan, nan, nan,  nan, nan, nan, 0., 0., 0., 0., 0., 0., 0., 0., 0., 0.),\n",
       "            ( 90.,  nan, nan, nan,  nan, nan, nan, 0., 0., 0., 0., 0., 0., 0., 0., 0., 0.),\n",
       "            (100.,  nan, nan, nan,  nan, nan, nan, 0., 0., 0., 0., 0., 0., 0., 0., 0., 0.),\n",
       "            (100.,  nan, nan, nan,  nan, nan, nan, 0., 0., 0., 0., 0., 0., 0., 0., 0., 0.),\n",
       "            (110.,  nan, nan, nan,  nan, nan, nan, 0., 0., 0., 0., 0., 0., 0., 0., 0., 0.),\n",
       "            (110.,  nan, nan, nan,  nan, nan, nan, 0., 0., 0., 0., 0., 0., 0., 0., 0., 0.),\n",
       "            (120.,  nan, nan, nan,  nan, nan, nan, 0., 0., 0., 0., 0., 0., 0., 0., 0., 0.),\n",
       "            (120.,  nan, nan, nan,  nan, nan, nan, 0., 0., 0., 0., 0., 0., 0., 0., 0., 0.),\n",
       "            (130.,  nan, nan, nan,  nan, nan, nan, 0., 0., 0., 0., 0., 0., 0., 0., 0., 0.),\n",
       "            (130.,  nan, nan, nan,  nan, nan, nan, 0., 0., 0., 0., 0., 0., 0., 0., 0., 0.),\n",
       "            (140.,  nan, nan, nan,  nan, nan, nan, 0., 0., 0., 0., 0., 0., 0., 0., 0., 0.),\n",
       "            (140.,  nan, nan, nan,  nan, nan, nan, 0., 0., 0., 0., 0., 0., 0., 0., 0., 0.),\n",
       "            (150.,  nan, nan, nan,  nan, nan, nan, 0., 0., 0., 0., 0., 0., 0., 0., 0., 0.),\n",
       "            (150.,  nan, nan, nan,  nan, nan, nan, 0., 0., 0., 0., 0., 0., 0., 0., 0., 0.),\n",
       "            (160.,  nan, nan, nan,  nan, nan, nan, 0., 0., 0., 0., 0., 0., 0., 0., 0., 0.),\n",
       "            (160.,  nan, nan, nan,  nan, nan, nan, 0., 0., 0., 0., 0., 0., 0., 0., 0., 0.),\n",
       "            (170.,  nan, nan, nan,  nan, nan, nan, 0., 0., 0., 0., 0., 0., 0., 0., 0., 0.),\n",
       "            (170.,  nan, nan, nan,  nan, nan, nan, 0., 0., 0., 0., 0., 0., 0., 0., 0., 0.),\n",
       "            (180.,  nan, nan, nan,  nan, nan, nan, 0., 0., 0., 0., 0., 0., 0., 0., 0., 0.),\n",
       "            (180.,  nan, nan, nan,  nan, nan, nan, 0., 0., 0., 0., 0., 0., 0., 0., 0., 0.),\n",
       "            (190.,  nan, nan, nan,  nan, nan, nan, 0., 0., 0., 0., 0., 0., 0., 0., 0., 0.),\n",
       "            (190.,  nan, nan, nan,  nan, nan, nan, 0., 0., 0., 0., 0., 0., 0., 0., 0., 0.),\n",
       "            (200.,  nan, nan, nan,  nan, nan, nan, 0., 0., 0., 0., 0., 0., 0., 0., 0., 0.)],\n",
       "           dtype=(pyaccel.optics.twiss.Twiss, [('spos', '<f8'), ('betax', '<f8'), ('alphax', '<f8'), ('mux', '<f8'), ('betay', '<f8'), ('alphay', '<f8'), ('muy', '<f8'), ('etax', '<f8'), ('etapx', '<f8'), ('etay', '<f8'), ('etapy', '<f8'), ('rx', '<f8'), ('px', '<f8'), ('ry', '<f8'), ('py', '<f8'), ('de', '<f8'), ('dl', '<f8')]))"
      ]
     },
     "execution_count": 156,
     "metadata": {},
     "output_type": "execute_result"
    }
   ],
   "source": [
    "TW"
   ]
  }
 ],
 "metadata": {
  "kernelspec": {
   "display_name": "sirius",
   "language": "python",
   "name": "python3"
  },
  "language_info": {
   "codemirror_mode": {
    "name": "ipython",
    "version": 3
   },
   "file_extension": ".py",
   "mimetype": "text/x-python",
   "name": "python",
   "nbconvert_exporter": "python",
   "pygments_lexer": "ipython3",
   "version": "3.9.2"
  }
 },
 "nbformat": 4,
 "nbformat_minor": 2
}
